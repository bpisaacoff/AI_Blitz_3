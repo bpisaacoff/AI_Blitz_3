{
 "cells": [
  {
   "cell_type": "code",
   "execution_count": 1,
   "metadata": {},
   "outputs": [],
   "source": [
    "import pandas as pd\n",
    "import numpy as np\n",
    "import datetime\n",
    "import matplotlib.pyplot as plt\n",
    "import datetime\n",
    "import pytz\n",
    "import os\n",
    "import glob\n",
    "import shutil\n",
    "import time\n",
    "\n",
    "from PIL import Image, ImageDraw, ImageFont\n",
    "from IPython.display import display\n",
    "\n",
    "# from imutils.perspective import four_point_transform\n",
    "# import imutils\n",
    "\n",
    "# plot options\n",
    "plt.rcParams.update({'font.size': 11})\n",
    "# plt.rcParams['figure.figsize'] = [16, 10] # for big plots\n",
    "# %matplotlib notebook\n",
    "\n",
    "#print option\n",
    "pd.set_option(\"display.max_columns\", 500)\n",
    "# pd.set_option('display.max_rows',100)\n",
    "# clear output in Jupyter cell\n",
    "from IPython.display import clear_output"
   ]
  },
  {
   "cell_type": "markdown",
   "metadata": {},
   "source": [
    "# Set up the directories"
   ]
  },
  {
   "cell_type": "code",
   "execution_count": 2,
   "metadata": {},
   "outputs": [],
   "source": [
    "imdir='C:/Users/isaac/Documents/Kaggle/AIcrowd/AI For Good - AI Blitz 3/Sudoku/GeneratedNumImgs/'"
   ]
  },
  {
   "cell_type": "code",
   "execution_count": 6,
   "metadata": {},
   "outputs": [],
   "source": [
    "if os.path.exists(imdir):\n",
    "    shutil.rmtree(imdir)\n",
    "os.mkdir(imdir)\n",
    "for num in ['1','2','3','4','5','6','7','8','9','blank']:\n",
    "    os.mkdir(os.path.join(imdir,num+os.path.sep))        "
   ]
  },
  {
   "cell_type": "markdown",
   "metadata": {},
   "source": [
    "# Generate the images"
   ]
  },
  {
   "cell_type": "code",
   "execution_count": 7,
   "metadata": {},
   "outputs": [
    {
     "name": "stdout",
     "output_type": "stream",
     "text": [
      "1 : 10.053 s\n",
      "2 : 14.696 s\n",
      "3 : 10.978 s\n",
      "4 : 11.773 s\n",
      "5 : 13.403 s\n",
      "6 : 15.843 s\n",
      "7 : 10.618 s\n",
      "8 : 16.429 s\n",
      "9 : 9.308 s\n",
      "blank : 7.488 s\n"
     ]
    }
   ],
   "source": [
    "# how many images per font for each number \n",
    "imgs_per_font=int(1e3)\n",
    "\n",
    "# side length of the square image\n",
    "imsz=33\n",
    "\n",
    "# probability of drawing a line\n",
    "linprob=0.3\n",
    "# line min offset\n",
    "offmn=-3\n",
    "# line max offset +1\n",
    "offmx=4\n",
    "# line thickness min\n",
    "lnthkmn=1\n",
    "# line thickness max +1\n",
    "lnthkmx=4\n",
    "\n",
    "eveimg=np.ones((imsz,imsz))\n",
    "imgname=0\n",
    "for num in ['1','2','3','4','5','6','7','8','9','blank']:\n",
    "    t_start = time.time()\n",
    "    for fontfile, pos in [('arial.ttf',(10,3)),('cambria.ttc',(10,2)),('corbel.ttf',(10,4)),\n",
    "                     ('mvboli.ttf',(8,-2)),('segoepr.ttf',(7,-5)),('pala.ttf',(10,7)),\n",
    "                         ('aldrich.ttf',(11,6)),\n",
    "                         ('C:/Users/isaac/AppData/Local/Microsoft/Windows/Fonts/lemonada.ttf',(9,-4))]:\n",
    "        # create font object with the font file and specify size\n",
    "        font=ImageFont.truetype(fontfile,24)\n",
    "        \n",
    "        for _ in range(imgs_per_font):\n",
    "            # increment the image name counter (global to all numbers and fonts)\n",
    "            imgname+=1\n",
    "            \n",
    "            # convert to PIL\n",
    "            textimg=Image.fromarray(np.uint8(\n",
    "                eveimg.copy()*np.random.randint(low=150,high=256)))\n",
    "            # creat a draw instance\n",
    "            draw = ImageDraw.Draw(textimg)            \n",
    "\n",
    "            # draw the message on the background \n",
    "            if num!='blank':\n",
    "                draw.text(pos, num, fill='rgb(0,0,0)', font=font)\n",
    "\n",
    "            # draw the lines\n",
    "            # left side line\n",
    "            if np.random.rand()<linprob:\n",
    "                ofst=np.random.randint(low=offmn, high=offmx)\n",
    "                thkn=np.random.randint(low=lnthkmn, high=lnthkmx)\n",
    "                draw.line([(0+ofst,0),(0+ofst,imsz)],width=thkn)\n",
    "            # right side line\n",
    "            if np.random.rand()<linprob:\n",
    "                ofst=np.random.randint(low=offmn, high=offmx)\n",
    "                thkn=np.random.randint(low=lnthkmn, high=lnthkmx)\n",
    "                draw.line([(imsz-ofst,0),(imsz-ofst,imsz)],width=thkn)\n",
    "            # top line\n",
    "            if np.random.rand()<linprob:\n",
    "                ofst=np.random.randint(low=offmn, high=offmx)\n",
    "                thkn=np.random.randint(low=lnthkmn, high=lnthkmx)\n",
    "                draw.line([(0,0+ofst),(imsz,0+ofst)],width=thkn)\n",
    "            # bottom line\n",
    "            if np.random.rand()<linprob:\n",
    "                ofst=np.random.randint(low=offmn, high=offmx)\n",
    "                thkn=np.random.randint(low=lnthkmn, high=lnthkmx)\n",
    "                draw.line([(0,imsz-ofst),(imsz,imsz-ofst)],width=thkn)\n",
    "            \n",
    "            # write the image to the directory\n",
    "            textimg.save(os.path.join(imdir,num+os.path.sep+str(imgname)+'.png'))\n",
    "            \n",
    "    print('{num} : {tim:.3f} s'.format(num=num,tim=time.time()-t_start))\n",
    "            "
   ]
  },
  {
   "cell_type": "code",
   "execution_count": null,
   "metadata": {},
   "outputs": [],
   "source": []
  }
 ],
 "metadata": {
  "kernelspec": {
   "display_name": "Python 3",
   "language": "python",
   "name": "python3"
  },
  "language_info": {
   "codemirror_mode": {
    "name": "ipython",
    "version": 3
   },
   "file_extension": ".py",
   "mimetype": "text/x-python",
   "name": "python",
   "nbconvert_exporter": "python",
   "pygments_lexer": "ipython3",
   "version": "3.7.7"
  }
 },
 "nbformat": 4,
 "nbformat_minor": 4
}
