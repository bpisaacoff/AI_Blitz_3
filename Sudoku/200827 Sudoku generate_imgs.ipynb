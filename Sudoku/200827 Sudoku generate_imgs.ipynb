{
 "cells": [
  {
   "cell_type": "code",
   "execution_count": 1,
   "metadata": {},
   "outputs": [],
   "source": [
    "import pandas as pd\n",
    "import numpy as np\n",
    "import datetime\n",
    "import matplotlib.pyplot as plt\n",
    "import datetime\n",
    "import pytz\n",
    "import cv2\n",
    "import os\n",
    "import glob\n",
    "import shutil\n",
    "\n",
    "# from imutils.perspective import four_point_transform\n",
    "# import imutils\n",
    "\n",
    "# plot options\n",
    "plt.rcParams.update({'font.size': 11})\n",
    "# plt.rcParams['figure.figsize'] = [16, 10] # for big plots\n",
    "# %matplotlib notebook\n",
    "\n",
    "#print option\n",
    "pd.set_option(\"display.max_columns\", 500)\n",
    "# pd.set_option('display.max_rows',100)\n",
    "# clear output in Jupyter cell\n",
    "from IPython.display import clear_output"
   ]
  },
  {
   "cell_type": "code",
   "execution_count": 2,
   "metadata": {},
   "outputs": [],
   "source": [
    "from __future__ import absolute_import\n",
    "from __future__ import division\n",
    "from __future__ import print_function\n",
    "\n",
    "__all__ = ['cv2_imshow', 'cv_imshow']\n",
    "\n",
    "import cv2\n",
    "from IPython import display\n",
    "import PIL\n",
    "\n",
    "\n",
    "def cv2_imshow(a):\n",
    "    \n",
    "    \"\"\"  A replacement for cv2.imshow() for use in Jupyter notebooks.\n",
    "    Args:\n",
    "    a : np.ndarray. shape (N, M) or (N, M, 1) is an NxM grayscale image. shape\n",
    "      (N, M, 3) is an NxM BGR color image. shape (N, M, 4) is an NxM BGRA color\n",
    "      image.\n",
    "    \"\"\"\n",
    "    a = a.clip(0, 255).astype('uint8')\n",
    "    # cv2 stores colors as BGR; convert to RGB\n",
    "    if a.ndim == 3:\n",
    "        if a.shape[2] == 4:\n",
    "            a = cv2.cvtColor(a, cv2.COLOR_BGRA2RGBA)\n",
    "        else:\n",
    "            a = cv2.cvtColor(a, cv2.COLOR_BGR2RGB)\n",
    "    display.display(PIL.Image.fromarray(a))\n",
    "\n",
    "\n",
    "cv_imshow = cv2_imshow"
   ]
  },
  {
   "cell_type": "code",
   "execution_count": null,
   "metadata": {},
   "outputs": [],
   "source": []
  },
  {
   "cell_type": "code",
   "execution_count": 3,
   "metadata": {},
   "outputs": [],
   "source": [
    "imsz=33\n",
    "img=np.ones((imsz,imsz))*np.random.randint(low=150,high=255)"
   ]
  },
  {
   "cell_type": "code",
   "execution_count": 4,
   "metadata": {},
   "outputs": [
    {
     "data": {
      "image/png": "[encoded data removed]",
      "text/plain": [
       "<PIL.Image.Image image mode=L size=33x33 at 0x1E46C404148>"
      ]
     },
     "metadata": {},
     "output_type": "display_data"
    }
   ],
   "source": [
    "cv2_imshow(img)"
   ]
  },
  {
   "cell_type": "code",
   "execution_count": 5,
   "metadata": {},
   "outputs": [
    {
     "data": {
      "image/png": "[encoded data removed]",
      "text/plain": [
       "<PIL.Image.Image image mode=L size=33x33 at 0x1E46C48D588>"
      ]
     },
     "metadata": {},
     "output_type": "display_data"
    }
   ],
   "source": [
    "textimg=img.copy()\n",
    "\n",
    "cv2.putText(textimg, '2', org=(9,24), fontFace=cv2.FONT_HERSHEY_SIMPLEX, color=(0,0,0),fontScale=.7,thickness=1)\n",
    "cv2_imshow(textimg)"
   ]
  },
  {
   "cell_type": "code",
   "execution_count": 6,
   "metadata": {},
   "outputs": [
    {
     "data": {
      "text/plain": [
       "'4.4.0'"
      ]
     },
     "execution_count": 6,
     "metadata": {},
     "output_type": "execute_result"
    }
   ],
   "source": [
    "cv2.__version__"
   ]
  },
  {
   "cell_type": "code",
   "execution_count": 7,
   "metadata": {},
   "outputs": [],
   "source": [
    "# # for font in ['FONT_HERSHEY_SIMPLEX', 'FONT_HERSHEY_PLAIN', 'FONT_HERSHEY_DUPLEX', 'FONT_HERSHEY_COMPLEX', \n",
    "# #              'FONT_HERSHEY_TRIPLEX', 'FONT_HERSHEY_COMPLEX_SMALL', 'FONT_HERSHEY_SCRIPT_SIMPLEX', 'FONT_HERSHEY_SCRIPT_COMPLEX']:\n",
    "\n",
    "# for font in ['FONT_HERSHEY_SIMPLEX', 'FONT_HERSHEY_DUPLEX', 'FONT_HERSHEY_COMPLEX', 'FONT_HERSHEY_TRIPLEX', \n",
    "#              'FONT_HERSHEY_SCRIPT_SIMPLEX', 'FONT_HERSHEY_SCRIPT_COMPLEX']:\n",
    "#     print(font)\n",
    "    \n",
    "#     textimg=img.copy()\n",
    "    \n",
    "#     curfont=eval('cv2.'+font)\n",
    "\n",
    "#     cv2.putText(textimg, '4', org=(9,24), fontFace=curfont, color=(0,0,0),fontScale=.7,thickness=1)\n",
    "#     cv2_imshow(textimg)"
   ]
  },
  {
   "cell_type": "code",
   "execution_count": 8,
   "metadata": {},
   "outputs": [],
   "source": [
    "from PIL import Image, ImageDraw, ImageFont\n",
    "from IPython.display import display"
   ]
  },
  {
   "cell_type": "code",
   "execution_count": 9,
   "metadata": {},
   "outputs": [],
   "source": [
    "fontpath='C:/Windows/Fonts/'"
   ]
  },
  {
   "cell_type": "code",
   "execution_count": 10,
   "metadata": {},
   "outputs": [
    {
     "data": {
      "image/png": "[encoded data removed]",
      "text/plain": [
       "<PIL.Image.Image image mode=L size=33x33 at 0x1E46C4ACEC8>"
      ]
     },
     "metadata": {},
     "output_type": "display_data"
    }
   ],
   "source": [
    "textimg=Image.fromarray(np.uint8(img))\n",
    "\n",
    "\n",
    "draw = ImageDraw.Draw(textimg)\n",
    "\n",
    "# create font object with the font file and specify\n",
    "# desired size\n",
    "\n",
    "font=ImageFont.truetype(\"arial.ttf\",23)\n",
    "\n",
    "# font = ImageFont.truetype('arial.pil', size=45)\n",
    " \n",
    "# starting position of the message\n",
    " \n",
    "(x, y) = (10,4)\n",
    "message = '2'\n",
    "color = 'rgb(0, 0, 0)' # black color\n",
    " \n",
    "# draw the message on the background\n",
    " \n",
    "draw.text((x, y), message, fill=color, font=font)\n",
    "\n",
    "\n",
    "display(textimg)\n"
   ]
  },
  {
   "cell_type": "code",
   "execution_count": 11,
   "metadata": {},
   "outputs": [],
   "source": [
    "from IPython.display import display # to display images"
   ]
  },
  {
   "cell_type": "code",
   "execution_count": null,
   "metadata": {},
   "outputs": [],
   "source": []
  },
  {
   "cell_type": "code",
   "execution_count": null,
   "metadata": {},
   "outputs": [],
   "source": []
  },
  {
   "cell_type": "code",
   "execution_count": null,
   "metadata": {},
   "outputs": [],
   "source": []
  },
  {
   "cell_type": "code",
   "execution_count": null,
   "metadata": {},
   "outputs": [],
   "source": []
  },
  {
   "cell_type": "code",
   "execution_count": 16,
   "metadata": {},
   "outputs": [
    {
     "name": "stdout",
     "output_type": "stream",
     "text": [
      "arial.ttf\n"
     ]
    },
    {
     "data": {
      "image/png": "[encoded data removed]",
      "text/plain": [
       "<PIL.Image.Image image mode=L size=33x33 at 0x1E46C55BA88>"
      ]
     },
     "metadata": {},
     "output_type": "display_data"
    },
    {
     "name": "stdout",
     "output_type": "stream",
     "text": [
      "cambria.ttc\n"
     ]
    },
    {
     "data": {
      "image/png": "[encoded data removed]",
      "text/plain": [
       "<PIL.Image.Image image mode=L size=33x33 at 0x1E46C500948>"
      ]
     },
     "metadata": {},
     "output_type": "display_data"
    },
    {
     "name": "stdout",
     "output_type": "stream",
     "text": [
      "corbel.ttf\n"
     ]
    },
    {
     "data": {
      "image/png": "[encoded data removed]",
      "text/plain": [
       "<PIL.Image.Image image mode=L size=33x33 at 0x1E46C563288>"
      ]
     },
     "metadata": {},
     "output_type": "display_data"
    },
    {
     "name": "stdout",
     "output_type": "stream",
     "text": [
      "mvboli.ttf\n"
     ]
    },
    {
     "data": {
      "image/png": "[encoded data removed]",
      "text/plain": [
       "<PIL.Image.Image image mode=L size=33x33 at 0x1E46C55BA88>"
      ]
     },
     "metadata": {},
     "output_type": "display_data"
    },
    {
     "name": "stdout",
     "output_type": "stream",
     "text": [
      "segoepr.ttf\n"
     ]
    },
    {
     "data": {
      "image/png": "[encoded data removed]",
      "text/plain": [
       "<PIL.Image.Image image mode=L size=33x33 at 0x1E46C563248>"
      ]
     },
     "metadata": {},
     "output_type": "display_data"
    },
    {
     "name": "stdout",
     "output_type": "stream",
     "text": [
      "pala.ttf\n"
     ]
    },
    {
     "data": {
      "image/png": "[encoded data removed]",
      "text/plain": [
       "<PIL.Image.Image image mode=L size=33x33 at 0x1E46C500948>"
      ]
     },
     "metadata": {},
     "output_type": "display_data"
    },
    {
     "name": "stdout",
     "output_type": "stream",
     "text": [
      "aldrich.ttf\n"
     ]
    },
    {
     "data": {
      "image/png": "[encoded data removed]",
      "text/plain": [
       "<PIL.Image.Image image mode=L size=33x33 at 0x1E46C5634C8>"
      ]
     },
     "metadata": {},
     "output_type": "display_data"
    },
    {
     "name": "stdout",
     "output_type": "stream",
     "text": [
      "C:/Users/isaac/AppData/Local/Microsoft/Windows/Fonts/lemonada.ttf\n"
     ]
    },
    {
     "data": {
      "image/png": "[encoded data removed]",
      "text/plain": [
       "<PIL.Image.Image image mode=L size=33x33 at 0x1E46C5631C8>"
      ]
     },
     "metadata": {},
     "output_type": "display_data"
    }
   ],
   "source": [
    "for fontfile,pos in [('arial.ttf',(10,3)),('cambria.ttc',(10,2)),('corbel.ttf',(10,4)),\n",
    "                     ('mvboli.ttf',(8,-2)),('segoepr.ttf',(7,-5)),('pala.ttf',(10,7)),\n",
    "                     ('aldrich.ttf',(11,6)),\n",
    "                     ('C:/Users/isaac/AppData/Local/Microsoft/Windows/Fonts/lemonada.ttf',(9,-4))]:\n",
    "\n",
    "    textimg=Image.fromarray(np.uint8(img.copy()))\n",
    "\n",
    "    # creat a draw instance\n",
    "    draw = ImageDraw.Draw(textimg)\n",
    "\n",
    "    # create font object with the font file and specify desired size\n",
    "    font=ImageFont.truetype(fontfile,24)\n",
    " \n",
    "    # draw the message on the background \n",
    "    draw.text(pos, '2', fill='rgb(0,0,0)', font=font)\n",
    "    \n",
    "    # draw the line\n",
    "    ofst=4\n",
    "    thkn=3\n",
    "    # left side line\n",
    "#     draw.line([(0+ofst,0),(0+ofst,imsz)],width=2)\n",
    "    # right side line\n",
    "#     draw.line([(imsz-ofst,0),(imsz-ofst,imsz)],width=2)\n",
    "    # top line\n",
    "#     draw.line([(0,0+ofst),(imsz,0+ofst)],width=2)\n",
    "     # bottom line\n",
    "#     draw.line([(0,imsz-ofst),(imsz,imsz-ofst)],width=2)\n",
    "\n",
    "    print(fontfile)\n",
    "    display(textimg)\n"
   ]
  },
  {
   "cell_type": "code",
   "execution_count": null,
   "metadata": {},
   "outputs": [],
   "source": [
    "from IPython.display import display # to display images"
   ]
  },
  {
   "cell_type": "code",
   "execution_count": null,
   "metadata": {},
   "outputs": [],
   "source": [
    "display(textimg)"
   ]
  },
  {
   "cell_type": "code",
   "execution_count": null,
   "metadata": {},
   "outputs": [],
   "source": []
  }
 ],
 "metadata": {
  "kernelspec": {
   "display_name": "Python 3",
   "language": "python",
   "name": "python3"
  },
  "language_info": {
   "codemirror_mode": {
    "name": "ipython",
    "version": 3
   },
   "file_extension": ".py",
   "mimetype": "text/x-python",
   "name": "python",
   "nbconvert_exporter": "python",
   "pygments_lexer": "ipython3",
   "version": "3.7.7"
  }
 },
 "nbformat": 4,
 "nbformat_minor": 4
}
