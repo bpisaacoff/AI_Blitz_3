{
 "cells": [
  {
   "cell_type": "markdown",
   "metadata": {
    "colab_type": "text",
    "id": "6AaZtlvVZ-2T"
   },
   "source": [
    "## **Setup**"
   ]
  },
  {
   "cell_type": "code",
   "execution_count": null,
   "metadata": {
    "colab": {
     "base_uri": "https://localhost:8080/",
     "height": 35
    },
    "colab_type": "code",
    "id": "U4CQDksDbfl_",
    "outputId": "16de9b64-562e-40c5-9730-46c56b29ee3a"
   },
   "outputs": [
    {
     "name": "stdout",
     "output_type": "stream",
     "text": [
      "Drive already mounted at /content/gdrive/; to attempt to forcibly remount, call drive.mount(\"/content/gdrive/\", force_remount=True).\n"
     ]
    }
   ],
   "source": [
    "from google.colab import drive\n",
    "mount_path = '/content/gdrive/'\n",
    "drive.mount(mount_path)"
   ]
  },
  {
   "cell_type": "code",
   "execution_count": null,
   "metadata": {
    "colab": {
     "base_uri": "https://localhost:8080/",
     "height": 70
    },
    "colab_type": "code",
    "id": "of4DbBiqQS8A",
    "outputId": "b102edad-69b1-4f20-c2f2-9f83f556e865"
   },
   "outputs": [
    {
     "name": "stdout",
     "output_type": "stream",
     "text": [
      "\u001b[K     |████████████████████████████████| 10.5MB 6.0MB/s \n",
      "\u001b[31mERROR: google-colab 1.0.0 has requirement pandas~=1.0.0; python_version >= \"3.0\", but you'll have pandas 1.1.1 which is incompatible.\u001b[0m\n",
      "\u001b[?25hRequirement already satisfied: utils in /usr/local/lib/python3.6/dist-packages (1.0.1)\n"
     ]
    }
   ],
   "source": [
    "!pip install -Uqq fastbook\n",
    "import fastbook\n",
    "fastbook.setup_book()\n",
    "\n",
    "#hide\n",
    "!pip install utils\n",
    "from utils import *"
   ]
  },
  {
   "cell_type": "code",
   "execution_count": null,
   "metadata": {
    "colab": {},
    "colab_type": "code",
    "id": "sjei6lVgQ5Sj"
   },
   "outputs": [],
   "source": [
    "from fastai.vision.all import *"
   ]
  },
  {
   "cell_type": "code",
   "execution_count": null,
   "metadata": {
    "colab": {},
    "colab_type": "code",
    "id": "kSMa29SfVfPy"
   },
   "outputs": [],
   "source": [
    "import os\n",
    "import shutil\n",
    "import glob\n",
    "import pickle\n",
    "import pandas as pd\n",
    "import matplotlib.pyplot as plt\n",
    "import numpy as np\n",
    "import datetime\n",
    "import pytz\n",
    "from zipfile import ZipFile\n",
    "from tempfile import TemporaryDirectory\n",
    "from PIL import Image\n",
    "\n",
    "from sklearn.metrics import f1_score, accuracy_score\n",
    "\n",
    "# plot options\n",
    "# plt.rcParams.update({'font.size': 11})\n",
    "plt.style.use('fivethirtyeight')"
   ]
  },
  {
   "cell_type": "code",
   "execution_count": null,
   "metadata": {
    "colab": {
     "base_uri": "https://localhost:8080/",
     "height": 35
    },
    "colab_type": "code",
    "id": "f5ZPU_OAXlFl",
    "outputId": "3eb844dc-06cf-44a0-c0c8-20ee72b8c29e"
   },
   "outputs": [
    {
     "name": "stdout",
     "output_type": "stream",
     "text": [
      "Drive mounted correctly and data accessible\n"
     ]
    }
   ],
   "source": [
    "# Set and test path to competition data files\n",
    "competition_path = 'My Drive/AI For Good - AI Blitz 3/Sudoku/Data/'\n",
    "model_path='My Drive/AI For Good - AI Blitz 3/Sudoku/Models/'\n",
    "filename = 'train.tar.gz'\n",
    "assert(os.path.exists(f'{mount_path}/{competition_path}/{filename}'))\n",
    "print('Drive mounted correctly and data accessible')"
   ]
  },
  {
   "cell_type": "code",
   "execution_count": null,
   "metadata": {
    "colab": {},
    "colab_type": "code",
    "id": "XnJQx7tLMztR"
   },
   "outputs": [],
   "source": [
    "home_dir='/content/All_Data/'\n",
    "\n",
    "# All_Data is the home directory for the images, from which training and validation splits will be taken\n",
    "if not os.path.exists(home_dir):\n",
    "  os.mkdir(home_dir)\n",
    "\n",
    "  with ZipFile(f'{mount_path}/{competition_path}/GeneratedNumImgs.zip', 'r') as zip_ref:\n",
    "        zip_ref.extractall(home_dir)"
   ]
  },
  {
   "cell_type": "code",
   "execution_count": null,
   "metadata": {
    "colab": {},
    "colab_type": "code",
    "id": "CM91vWSNaD-J"
   },
   "outputs": [],
   "source": [
    "dls = ImageDataLoaders.from_folder('/content/All_Data/GeneratedNumImgs/',valid_pct=0.001,\n",
    "                                   batch_tfms=aug_transforms(do_flip=False, flip_vert=False, max_rotate=30.0,\n",
    "                                                          min_zoom=.8, max_zoom=1.2, max_lighting=0.2, max_warp=0.2))"
   ]
  },
  {
   "cell_type": "code",
   "execution_count": null,
   "metadata": {
    "colab": {
     "base_uri": "https://localhost:8080/",
     "height": 577
    },
    "colab_type": "code",
    "id": "CyEHgmjsbtEr",
    "outputId": "278bdec8-f5d0-4994-c7a0-379e3b1b1655"
   },
   "outputs": [
    {
     "data": {
      "image/png": "[encoded data removed]",
      "text/plain": [
       "<Figure size 648x648 with 9 Axes>"
      ]
     },
     "metadata": {
      "tags": []
     },
     "output_type": "display_data"
    }
   ],
   "source": [
    "dls.show_batch()"
   ]
  },
  {
   "cell_type": "code",
   "execution_count": null,
   "metadata": {
    "colab": {},
    "colab_type": "code",
    "id": "dv9a3aGMdBaN"
   },
   "outputs": [],
   "source": [
    "learn = cnn_learner(dls, resnet34, pretrained=False, metrics=[accuracy],cbs=[ShowGraphCallback()])\n",
    "# learn.to_fp16()\n",
    "# learn.tta(dl=dls, n=10)"
   ]
  },
  {
   "cell_type": "code",
   "execution_count": null,
   "metadata": {
    "colab": {},
    "colab_type": "code",
    "id": "-lQ73bnt9OMX"
   },
   "outputs": [],
   "source": [
    "# learn.lr_find()"
   ]
  },
  {
   "cell_type": "code",
   "execution_count": null,
   "metadata": {
    "colab": {
     "base_uri": "https://localhost:8080/",
     "height": 471
    },
    "colab_type": "code",
    "id": "qqIChaWql78y",
    "outputId": "582c34fc-c54c-48a0-bb49-4e0e22e08f65"
   },
   "outputs": [
    {
     "data": {
      "text/html": [
       "<table border=\"1\" class=\"dataframe\">\n",
       "  <thead>\n",
       "    <tr style=\"text-align: left;\">\n",
       "      <th>epoch</th>\n",
       "      <th>train_loss</th>\n",
       "      <th>valid_loss</th>\n",
       "      <th>accuracy</th>\n",
       "      <th>time</th>\n",
       "    </tr>\n",
       "  </thead>\n",
       "  <tbody>\n",
       "    <tr>\n",
       "      <td>0</td>\n",
       "      <td>0.151388</td>\n",
       "      <td>0.109194</td>\n",
       "      <td>0.950000</td>\n",
       "      <td>01:49</td>\n",
       "    </tr>\n",
       "    <tr>\n",
       "      <td>1</td>\n",
       "      <td>0.029738</td>\n",
       "      <td>0.000126</td>\n",
       "      <td>1.000000</td>\n",
       "      <td>01:50</td>\n",
       "    </tr>\n",
       "    <tr>\n",
       "      <td>2</td>\n",
       "      <td>0.010445</td>\n",
       "      <td>0.000052</td>\n",
       "      <td>1.000000</td>\n",
       "      <td>01:52</td>\n",
       "    </tr>\n",
       "    <tr>\n",
       "      <td>3</td>\n",
       "      <td>0.000768</td>\n",
       "      <td>0.000000</td>\n",
       "      <td>1.000000</td>\n",
       "      <td>01:53</td>\n",
       "    </tr>\n",
       "    <tr>\n",
       "      <td>4</td>\n",
       "      <td>0.000142</td>\n",
       "      <td>0.000000</td>\n",
       "      <td>1.000000</td>\n",
       "      <td>01:52</td>\n",
       "    </tr>\n",
       "  </tbody>\n",
       "</table>"
      ],
      "text/plain": [
       "<IPython.core.display.HTML object>"
      ]
     },
     "metadata": {
      "tags": []
     },
     "output_type": "display_data"
    },
    {
     "data": {
      "image/png": "[encoded data removed]",
      "text/plain": [
       "<Figure size 432x288 with 1 Axes>"
      ]
     },
     "metadata": {
      "tags": []
     },
     "output_type": "display_data"
    }
   ],
   "source": [
    "learn.fit_one_cycle(n_epoch=5,lr_max=1e-2)\n",
    "datestr=datetime.datetime.now(pytz.timezone('US/Eastern')).strftime(\"%y%m%d_%H%M\")\n",
    "learn.export(mount_path+model_path+datestr+'_fullgennums.pkl')"
   ]
  },
  {
   "cell_type": "code",
   "execution_count": null,
   "metadata": {
    "colab": {},
    "colab_type": "code",
    "id": "ltIKB3igOBQi"
   },
   "outputs": [],
   "source": [
    "# datestr=datetime.datetime.now(pytz.timezone('US/Eastern')).strftime(\"%y%m%d_%H%M\")\n",
    "# learn.export(mount_path+model_path+datestr+'_fullgennums.pkl')"
   ]
  },
  {
   "cell_type": "code",
   "execution_count": null,
   "metadata": {
    "colab": {},
    "colab_type": "code",
    "id": "Gmm-14cGa5G2"
   },
   "outputs": [],
   "source": [
    "# datestr=datetime.datetime.now(pytz.timezone('US/Eastern')).strftime(\"%y%m%d_%H%M\")\n",
    "# learn.export(mount_path+model_path+datestr+'_fullgennums.pkl')"
   ]
  },
  {
   "cell_type": "code",
   "execution_count": null,
   "metadata": {
    "colab": {},
    "colab_type": "code",
    "id": "ntNaPpcGa6VZ"
   },
   "outputs": [],
   "source": []
  }
 ],
 "metadata": {
  "accelerator": "GPU",
  "colab": {
   "collapsed_sections": [],
   "name": "200828 SUDOKU fastai.ipynb",
   "provenance": [],
   "toc_visible": true
  },
  "kernelspec": {
   "display_name": "Python 3",
   "language": "python",
   "name": "python3"
  },
  "language_info": {
   "codemirror_mode": {
    "name": "ipython",
    "version": 3
   },
   "file_extension": ".py",
   "mimetype": "text/x-python",
   "name": "python",
   "nbconvert_exporter": "python",
   "pygments_lexer": "ipython3",
   "version": "3.7.7"
  }
 },
 "nbformat": 4,
 "nbformat_minor": 4
}
