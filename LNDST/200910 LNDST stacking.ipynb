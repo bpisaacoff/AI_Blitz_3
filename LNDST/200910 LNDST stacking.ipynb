{
 "cells": [
  {
   "cell_type": "markdown",
   "metadata": {
    "colab_type": "text",
    "id": "6AaZtlvVZ-2T"
   },
   "source": [
    "## **Setup**"
   ]
  },
  {
   "cell_type": "code",
   "execution_count": 1,
   "metadata": {
    "colab": {},
    "colab_type": "code",
    "executionInfo": {
     "elapsed": 7278,
     "status": "ok",
     "timestamp": 1599668619469,
     "user": {
      "displayName": "Ben Isaacoff",
      "photoUrl": "https://lh3.googleusercontent.com/a-/AOh14Gj3nUiOdsgkozK1xAE5MY_jUwIPqARauxrhKcoSXg=s64",
      "userId": "05140603897186853519"
     },
     "user_tz": 240
    },
    "id": "sjei6lVgQ5Sj"
   },
   "outputs": [],
   "source": [
    "from fastai.vision.all import *"
   ]
  },
  {
   "cell_type": "code",
   "execution_count": 1,
   "metadata": {
    "colab": {},
    "colab_type": "code",
    "executionInfo": {
     "elapsed": 7269,
     "status": "ok",
     "timestamp": 1599668619471,
     "user": {
      "displayName": "Ben Isaacoff",
      "photoUrl": "https://lh3.googleusercontent.com/a-/AOh14Gj3nUiOdsgkozK1xAE5MY_jUwIPqARauxrhKcoSXg=s64",
      "userId": "05140603897186853519"
     },
     "user_tz": 240
    },
    "id": "kSMa29SfVfPy"
   },
   "outputs": [],
   "source": [
    "import os\n",
    "import shutil\n",
    "import glob\n",
    "import pickle\n",
    "import pandas as pd\n",
    "import matplotlib.pyplot as plt\n",
    "import numpy as np\n",
    "import datetime\n",
    "import pytz\n",
    "from zipfile import ZipFile\n",
    "from tempfile import TemporaryDirectory\n",
    "from PIL import Image\n",
    "\n",
    "from sklearn.metrics import f1_score, accuracy_score\n",
    "\n",
    "# plot options\n",
    "# plt.rcParams.update({'font.size': 11})\n",
    "plt.style.use('fivethirtyeight')"
   ]
  },
  {
   "cell_type": "markdown",
   "metadata": {
    "colab_type": "text",
    "id": "TXzT9M3g8BFF"
   },
   "source": [
    "# **Functions**\n",
    "\n"
   ]
  },
  {
   "cell_type": "code",
   "execution_count": 2,
   "metadata": {
    "colab": {},
    "colab_type": "code",
    "executionInfo": {
     "elapsed": 7234,
     "status": "ok",
     "timestamp": 1599668619473,
     "user": {
      "displayName": "Ben Isaacoff",
      "photoUrl": "https://lh3.googleusercontent.com/a-/AOh14Gj3nUiOdsgkozK1xAE5MY_jUwIPqARauxrhKcoSXg=s64",
      "userId": "05140603897186853519"
     },
     "user_tz": 240
    },
    "id": "Rasc7Yy08jjX"
   },
   "outputs": [],
   "source": [
    "# def display_mask(imgnum):\n",
    "#     img=Image.open('/content/All_Data/Labels/train_gt/image_'+imgnum+'.png')\n",
    "#     img=np.asarray(img)*255\n",
    "#     display(Image.fromarray(np.uint8(img)))\n",
    "\n",
    "def display_mask(img):\n",
    "    display(Image.fromarray(np.uint8(img*255)))"
   ]
  },
  {
   "cell_type": "markdown",
   "metadata": {
    "colab_type": "text",
    "id": "wbp0Z7Mb-YBl"
   },
   "source": [
    "# Unzip\n"
   ]
  },
  {
   "cell_type": "code",
   "execution_count": 3,
   "metadata": {},
   "outputs": [],
   "source": [
    "home_dir='/storage/BPI/Data/LNDST/'"
   ]
  },
  {
   "cell_type": "code",
   "execution_count": 9,
   "metadata": {
    "colab": {},
    "colab_type": "code",
    "executionInfo": {
     "elapsed": 7224,
     "status": "ok",
     "timestamp": 1599668619474,
     "user": {
      "displayName": "Ben Isaacoff",
      "photoUrl": "https://lh3.googleusercontent.com/a-/AOh14Gj3nUiOdsgkozK1xAE5MY_jUwIPqARauxrhKcoSXg=s64",
      "userId": "05140603897186853519"
     },
     "user_tz": 240
    },
    "id": "5VVgttJBevZm"
   },
   "outputs": [],
   "source": [
    "result_files=glob.glob(home_dir+'*.npy')"
   ]
  },
  {
   "cell_type": "code",
   "execution_count": 10,
   "metadata": {},
   "outputs": [
    {
     "data": {
      "text/plain": [
       "['/storage/BPI/Data/LNDST/200901_0816_xresnet18_cv2_test.npy',\n",
       " '/storage/BPI/Data/LNDST/200901_0925_xresnet34_cv1_test.npy',\n",
       " '/storage/BPI/Data/LNDST/200901_0736_resnet18_cv2_test.npy',\n",
       " '/storage/BPI/Data/LNDST/200901_0749_xresnet18_cv0_test.npy',\n",
       " '/storage/BPI/Data/LNDST/200901_0803_xresnet18_cv1_test.npy',\n",
       " '/storage/BPI/Data/LNDST/200901_0830_resnet34_cv0_test.npy',\n",
       " '/storage/BPI/Data/LNDST/200901_0710_resnet18_cv0_test.npy',\n",
       " '/storage/BPI/Data/LNDST/200901_0844_resnet34_cv1_test.npy',\n",
       " '/storage/BPI/Data/LNDST/200901_0857_resnet34_cv2_test.npy',\n",
       " '/storage/BPI/Data/LNDST/200901_0723_resnet18_cv1_test.npy',\n",
       " '/storage/BPI/Data/LNDST/200901_0939_xresnet34_cv2_test.npy',\n",
       " '/storage/BPI/Data/LNDST/200901_0911_xresnet34_cv0_test.npy']"
      ]
     },
     "execution_count": 10,
     "metadata": {},
     "output_type": "execute_result"
    }
   ],
   "source": [
    "result_files"
   ]
  },
  {
   "cell_type": "markdown",
   "metadata": {},
   "source": [
    "### Do each model individually"
   ]
  },
  {
   "cell_type": "code",
   "execution_count": 16,
   "metadata": {},
   "outputs": [],
   "source": [
    "for result_file in result_files:\n",
    "    preds=np.load(result_file)\n",
    "    # convert from probability to binary mask and change dytpe per competition instructions\n",
    "    preds=np.argmax(preds,1).astype('int8').flatten()\n",
    "    \n",
    "#     assert(2==3)\n",
    "\n",
    "    # np.save(f'/content/{os.path.basename(result_file)[:-9]}_submission.npy',preds)\n",
    "    np.save(f'{home_dir}Submissions/{os.path.basename(result_file)[:-9]}_submission.npy',preds)"
   ]
  },
  {
   "cell_type": "markdown",
   "metadata": {},
   "source": [
    "### Do each architecture together"
   ]
  },
  {
   "cell_type": "code",
   "execution_count": 27,
   "metadata": {},
   "outputs": [],
   "source": [
    "archs=['_resnet18_','_xresnet18_','_resnet34_','_xresnet34_']"
   ]
  },
  {
   "cell_type": "code",
   "execution_count": 45,
   "metadata": {},
   "outputs": [],
   "source": [
    "for arch in archs:\n",
    "    cur_result_files=[ii for ii in result_files if arch in ii]\n",
    "    \n",
    "    preds=np.load(cur_result_files[0])\n",
    "    for result_file in cur_result_files[1:]:\n",
    "        curpreds=np.load(result_file)\n",
    "        \n",
    "        preds[:,0,:,:]=preds[:,0,:,:]+curpreds[:,0,:,:]\n",
    "        preds[:,1,:,:]=preds[:,1,:,:]+curpreds[:,1,:,:]\n",
    "        \n",
    "    preds=np.argmax(preds,1).astype('int8').flatten()\n",
    "    np.save(f'{home_dir}Submissions/{arch}submission.npy',preds)"
   ]
  },
  {
   "cell_type": "markdown",
   "metadata": {},
   "source": [
    "### Do each depth together"
   ]
  },
  {
   "cell_type": "code",
   "execution_count": 46,
   "metadata": {},
   "outputs": [],
   "source": [
    "archs=['resnet18_','resnet34_']"
   ]
  },
  {
   "cell_type": "code",
   "execution_count": 48,
   "metadata": {},
   "outputs": [],
   "source": [
    "for arch in archs:\n",
    "    cur_result_files=[ii for ii in result_files if arch in ii]\n",
    "    \n",
    "#     print(cur_result_files)\n",
    "    \n",
    "    preds=np.load(cur_result_files[0])\n",
    "    for result_file in cur_result_files[1:]:\n",
    "        curpreds=np.load(result_file)\n",
    "        \n",
    "        preds[:,0,:,:]=preds[:,0,:,:]+curpreds[:,0,:,:]\n",
    "        preds[:,1,:,:]=preds[:,1,:,:]+curpreds[:,1,:,:]\n",
    "        \n",
    "    preds=np.argmax(preds,1).astype('int8').flatten()\n",
    "    np.save(f'{home_dir}Submissions/all_{arch}submission.npy',preds)"
   ]
  },
  {
   "cell_type": "markdown",
   "metadata": {},
   "source": [
    "### Do all together"
   ]
  },
  {
   "cell_type": "code",
   "execution_count": 49,
   "metadata": {},
   "outputs": [],
   "source": [
    "preds=np.load(result_files[0])\n",
    "for result_file in result_files[1:]:\n",
    "    curpreds=np.load(result_file)\n",
    "\n",
    "    preds[:,0,:,:]=preds[:,0,:,:]+curpreds[:,0,:,:]\n",
    "    preds[:,1,:,:]=preds[:,1,:,:]+curpreds[:,1,:,:]\n",
    "\n",
    "preds=np.argmax(preds,1).astype('int8').flatten()\n",
    "np.save(f'{home_dir}Submissions/all_submission.npy',preds)"
   ]
  },
  {
   "cell_type": "markdown",
   "metadata": {},
   "source": [
    "### Do weighted average"
   ]
  },
  {
   "cell_type": "code",
   "execution_count": 56,
   "metadata": {},
   "outputs": [],
   "source": [
    "archs=['resnet18_','resnet34_']\n",
    "\n",
    "for weight in [1.1,1.2,1.5,2]:\n",
    "    cur_result_files=[ii for ii in result_files if 'resnet18_' in ii]\n",
    "    \n",
    "    preds=np.load(cur_result_files[0])\n",
    "    for result_file in cur_result_files[1:]:\n",
    "        curpreds=np.load(result_file)\n",
    "        \n",
    "        preds[:,0,:,:]=preds[:,0,:,:]+curpreds[:,0,:,:]\n",
    "        preds[:,1,:,:]=preds[:,1,:,:]+curpreds[:,1,:,:]\n",
    "        \n",
    "    cur_result_files=[ii for ii in result_files if 'resnet34_' in ii]    \n",
    "    \n",
    "    for result_file in cur_result_files:\n",
    "        curpreds=np.load(result_file)\n",
    "        \n",
    "        preds[:,0,:,:]=preds[:,0,:,:]+curpreds[:,0,:,:]*weight\n",
    "        preds[:,1,:,:]=preds[:,1,:,:]+curpreds[:,1,:,:]*weight\n",
    "        \n",
    "    preds=np.argmax(preds,1).astype('int8').flatten()\n",
    "    \n",
    "    \n",
    "    wstr=str(weight).replace('.','_')\n",
    "    np.save(f'{home_dir}Submissions/all_{wstr}{arch}_submission.npy',preds)"
   ]
  }
 ],
 "metadata": {
  "accelerator": "GPU",
  "colab": {
   "collapsed_sections": [],
   "machine_shape": "hm",
   "name": "200908 LNDST test.ipynb",
   "provenance": [
    {
     "file_id": "1W9Qhqus8hJb8MHavhxxf-baXw8vFZmhL",
     "timestamp": 1598826567621
    },
    {
     "file_id": "1UWIDArviem_DlyEaCYNC-DqTo1Lp_TbQ",
     "timestamp": 1598274276949
    },
    {
     "file_id": "1FNGNvB1akUrwIRtMqNuX5kbJ7CuWOTDv",
     "timestamp": 1598217862018
    },
    {
     "file_id": "1pdAIia199KfjNk64LUlxX7V2B95pdSTc",
     "timestamp": 1598188380512
    },
    {
     "file_id": "1whuDPz7UFvV5HjfHdUbipZNepQHROOK3",
     "timestamp": 1597872679642
    },
    {
     "file_id": "1DbzoeLviHZqgsEfh7gXsJmu8xCAA8XKY",
     "timestamp": 1597363248029
    },
    {
     "file_id": "1UNshqAjzCVPOTGOL8cgSH_eESwx2uiLA",
     "timestamp": 1596806015753
    },
    {
     "file_id": "1SkoA3wQ_3cYtxt3P5pF-DSB-MFGGRQnN",
     "timestamp": 1596568903906
    }
   ]
  },
  "kernelspec": {
   "display_name": "Python 3",
   "language": "python",
   "name": "python3"
  },
  "language_info": {
   "codemirror_mode": {
    "name": "ipython",
    "version": 3
   },
   "file_extension": ".py",
   "mimetype": "text/x-python",
   "name": "python",
   "nbconvert_exporter": "python",
   "pygments_lexer": "ipython3",
   "version": "3.8.5"
  }
 },
 "nbformat": 4,
 "nbformat_minor": 1
}
